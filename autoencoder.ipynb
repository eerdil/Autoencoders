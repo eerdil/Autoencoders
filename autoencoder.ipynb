{
 "cells": [
  {
   "cell_type": "code",
   "execution_count": 2,
   "metadata": {},
   "outputs": [
    {
     "name": "stdout",
     "output_type": "stream",
     "text": [
      "Extracting MNIST_data/train-images-idx3-ubyte.gz\n",
      "Extracting MNIST_data/train-labels-idx1-ubyte.gz\n",
      "Extracting MNIST_data/t10k-images-idx3-ubyte.gz\n",
      "Extracting MNIST_data/t10k-labels-idx1-ubyte.gz\n",
      "784\n"
     ]
    }
   ],
   "source": [
    "import tensorflow as tf\n",
    "import numpy as np\n",
    "import matplotlib.pyplot as plt\n",
    "\n",
    "# import MNIST data\n",
    "from tensorflow.examples.tutorials.mnist import input_data\n",
    "mnist = input_data.read_data_sets(\"MNIST_data/\", one_hot=True)\n",
    "mnist_train = mnist.train.images\n",
    "mnist_test = mnist.test.images\n",
    "mnist_validation = mnist.validation.images\n"
   ]
  },
  {
   "cell_type": "code",
   "execution_count": 97,
   "metadata": {},
   "outputs": [],
   "source": [
    "# Model\n",
    "# Training Parameters\n",
    "learning_rate = 0.001\n",
    "num_steps = 30000\n",
    "batch_size = 256\n",
    "\n",
    "display_step = 1000\n",
    "\n",
    "# Network Parameters\n",
    "num_hidden_1 = 256 # number of parameters in the first fully connected layer in encoder and decoder\n",
    "num_hidden_2 = 128 # number of parameters in the second fully connected layer in encoder\n",
    "num_hidden_3 = 3136 # number of parameters in the second fully connected layer in decoder\n",
    "num_input = 784 # MNIST data input (img shape: 28*28)\n",
    "\n",
    "# tensorflow graph\n",
    "tf.reset_default_graph()\n",
    "\n",
    "X = tf.placeholder(tf.float32, [None, 28, 28, 1]) # placeholder for input data\n",
    "\n",
    "# Function that builds computational graph of encoder\n",
    "def encoder(x):  \n",
    "    conv1 = tf.layers.conv2d(inputs=x, filters=32, kernel_size=[5, 5], \n",
    "                             padding=\"same\", activation=tf.nn.relu)    \n",
    "    \n",
    "    pool1 = tf.layers.max_pooling2d(inputs=conv1, pool_size=[2, 2], strides=2)    \n",
    "    \n",
    "    conv2 = tf.layers.conv2d(inputs=pool1, filters=64, kernel_size=[5, 5], \n",
    "                             padding=\"same\", activation=tf.nn.relu)    \n",
    "    \n",
    "    pool2 = tf.layers.max_pooling2d(inputs=conv2, pool_size=[2, 2], strides=2)    \n",
    "    flattened = tf.layers.flatten(pool2)    \n",
    "    \n",
    "    dense1 = tf.layers.dense(inputs=flattened, units=num_hidden_1, activation=tf.nn.relu)    \n",
    "    \n",
    "    dense2 = tf.layers.dense(inputs=dense1, units=num_hidden_2, activation=tf.nn.sigmoid)\n",
    "    \n",
    "    return dense2\n",
    "\n",
    "# Function that builds computational graph of decoder\n",
    "def decoder(x):\n",
    "    dense1 = tf.layers.dense(inputs=x, units=num_hidden_1, activation=tf.nn.relu)\n",
    "        \n",
    "    dense2 = tf.layers.dense(inputs=dense1, units=num_hidden_3, activation=tf.nn.relu)\n",
    "        \n",
    "    dense2 = tf.reshape(dense2, shape=[-1, 7, 7, 64])\n",
    "        \n",
    "    deconv1 = tf.layers.conv2d_transpose(dense2, 64, [5, 5], padding = 'SAME')\n",
    "        \n",
    "    upsample1 = tf.image.resize_bilinear(deconv1, size=[14, 14], align_corners=None, name=None)\n",
    "        \n",
    "    deconv2 = tf.layers.conv2d_transpose(upsample1, 32, [5, 5], padding = 'SAME')\n",
    "        \n",
    "    upsample2 = tf.image.resize_bilinear(deconv2, size=[28, 28], align_corners=None, name=None)\n",
    "        \n",
    "    flattened = tf.layers.flatten(upsample2)\n",
    "        \n",
    "    dense3 = tf.layers.dense(inputs=flattened, units=28*28, activation=tf.nn.sigmoid)\n",
    "    \n",
    "    dense3 = tf.reshape(dense3, shape = [-1, 28, 28, 1])\n",
    "    \n",
    "    return dense3\n",
    "\n",
    "# Autoencoder model\n",
    "encoder_op = encoder(X)\n",
    "decoder_op = decoder(encoder_op)\n",
    "\n",
    "# The output of decoder becomes prediction\n",
    "y_pred = decoder_op\n",
    "\n",
    "# In autoencoders, our labels are input images since the aim is to \n",
    "# reconstruct the original image from its low dimensional representation\n",
    "y_true = X\n",
    "\n",
    "# Loss function is mean square errow which we minimize using RMSProp\n",
    "loss = tf.reduce_mean(tf.pow(y_true - y_pred, 2))\n",
    "optimizer = tf.train.RMSPropOptimizer(learning_rate).minimize(loss)\n",
    "\n",
    "# Initialize the variables\n",
    "init = tf.global_variables_initializer()\n",
    "\n",
    "# To save and restore all the variables.\n",
    "saver = tf.train.Saver()"
   ]
  },
  {
   "cell_type": "code",
   "execution_count": 98,
   "metadata": {},
   "outputs": [
    {
     "name": "stdout",
     "output_type": "stream",
     "text": [
      "Step 1: Minibatch Loss: 0.231546\n",
      "Step 1000: Minibatch Loss: 0.022278\n",
      "Step 2000: Minibatch Loss: 0.011599\n",
      "Step 3000: Minibatch Loss: 0.010601\n",
      "Step 4000: Minibatch Loss: 0.008180\n",
      "Step 5000: Minibatch Loss: 0.006842\n",
      "Step 6000: Minibatch Loss: 0.006797\n",
      "Step 7000: Minibatch Loss: 0.006300\n",
      "Step 8000: Minibatch Loss: 0.005428\n",
      "Step 9000: Minibatch Loss: 0.005363\n",
      "Step 10000: Minibatch Loss: 0.004828\n",
      "Step 11000: Minibatch Loss: 0.004695\n",
      "Step 12000: Minibatch Loss: 0.004542\n",
      "Step 13000: Minibatch Loss: 0.004472\n",
      "Step 14000: Minibatch Loss: 0.004210\n",
      "Step 15000: Minibatch Loss: 0.003805\n",
      "Step 16000: Minibatch Loss: 0.004075\n",
      "Step 17000: Minibatch Loss: 0.004111\n",
      "Step 18000: Minibatch Loss: 0.003678\n",
      "Step 19000: Minibatch Loss: 0.003762\n",
      "Step 20000: Minibatch Loss: 0.003393\n",
      "Step 21000: Minibatch Loss: 0.003345\n",
      "Step 22000: Minibatch Loss: 0.003381\n",
      "Step 23000: Minibatch Loss: 0.003159\n",
      "Step 24000: Minibatch Loss: 0.003296\n",
      "Step 25000: Minibatch Loss: 0.003152\n",
      "Step 26000: Minibatch Loss: 0.002913\n",
      "Step 27000: Minibatch Loss: 0.003124\n",
      "Step 28000: Minibatch Loss: 0.002916\n",
      "Step 29000: Minibatch Loss: 0.002804\n",
      "Step 30000: Minibatch Loss: 0.002928\n",
      "Model saved in path: ./tf_model.ckpt\n"
     ]
    }
   ],
   "source": [
    "# Training\n",
    "# Start a new tensorflow session\n",
    "with tf.Session() as sess:\n",
    "\n",
    "    # Run the initializer\n",
    "    sess.run(init)\n",
    "\n",
    "    # Training iterations\n",
    "    for i in range(1, num_steps + 1):\n",
    "        \n",
    "        # Get the next batch of MNIST data\n",
    "        batch_x, _ = mnist.train.next_batch(batch_size)\n",
    "        batch_x = np.reshape(batch_x, [-1, 28, 28, 1])\n",
    "        \n",
    "        # Run optimizer and compute cost by feeding batch_x\n",
    "        _, l = sess.run([optimizer, loss], feed_dict={X: batch_x})\n",
    "        # Display logs per step\n",
    "        if i % display_step == 0 or i == 1:\n",
    "            print('Step %i: Loss: %f' % (i, l))\n",
    "\n",
    "    save_path = saver.save(sess, './tf_model.ckpt')\n",
    "    print(\"Model saved in path: %s\" % save_path)"
   ]
  },
  {
   "cell_type": "code",
   "execution_count": 103,
   "metadata": {},
   "outputs": [
    {
     "name": "stdout",
     "output_type": "stream",
     "text": [
      "INFO:tensorflow:Restoring parameters from ./tf_model.ckpt\n"
     ]
    },
    {
     "data": {
      "image/png": "[encoded data removed]",
      "text/plain": [
       "<matplotlib.figure.Figure at 0x7f9e95b61b00>"
      ]
     },
     "metadata": {},
     "output_type": "display_data"
    }
   ],
   "source": [
    "# Test\n",
    "# Start a new tensorflow session\n",
    "with tf.Session() as sess:\n",
    "    \n",
    "    # Run the initializer\n",
    "    sess.run(init)\n",
    "    \n",
    "    # Restore the saved model\n",
    "    saver.restore(sess, \"./tf_model.ckpt\")\n",
    "        \n",
    "    n = 5 # number of images to test\n",
    "    _, axarr = plt.subplots(2, n) # create axis array to display images\n",
    "    \n",
    "    # Encode and decode images from test set and visualize their reconstruction.\n",
    "    batch_x, _ = mnist.test.next_batch(n)\n",
    "    batch_x = np.reshape(batch_x, [-1, 28, 28, 1])\n",
    "    \n",
    "    g = sess.run(decoder_op, feed_dict={X: batch_x})\n",
    "\n",
    "    for i in range(n):       \n",
    "        axarr[0, i].imshow(batch_x[i].reshape([28, 28]), origin=\"upper\", cmap=\"gray\")\n",
    "        axarr[1, i].imshow(g[i].reshape([28, 28]), origin=\"upper\", cmap=\"gray\")"
   ]
  },
  {
   "cell_type": "code",
   "execution_count": null,
   "metadata": {},
   "outputs": [],
   "source": []
  }
 ],
 "metadata": {
  "kernelspec": {
   "display_name": "Python 3",
   "language": "python",
   "name": "python3"
  },
  "language_info": {
   "codemirror_mode": {
    "name": "ipython",
    "version": 3
   },
   "file_extension": ".py",
   "mimetype": "text/x-python",
   "name": "python",
   "nbconvert_exporter": "python",
   "pygments_lexer": "ipython3",
   "version": "3.5.2"
  }
 },
 "nbformat": 4,
 "nbformat_minor": 2
}
